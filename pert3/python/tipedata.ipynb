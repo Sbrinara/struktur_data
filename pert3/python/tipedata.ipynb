{
 "cells": [
  {
   "cell_type": "code",
   "execution_count": null,
   "id": "76601553",
   "metadata": {},
   "outputs": [],
   "source": [
    "int(integer)"
   ]
  },
  {
   "cell_type": "code",
   "execution_count": null,
   "id": "87935e62",
   "metadata": {},
   "outputs": [],
   "source": [
    "num = 10;\n",
    "num2 = 10;\n",
    "\n",
    "print (num + num2)"
   ]
  },
  {
   "cell_type": "code",
   "execution_count": null,
   "id": "5234140e",
   "metadata": {},
   "outputs": [],
   "source": [
    "string"
   ]
  },
  {
   "cell_type": "code",
   "execution_count": null,
   "id": "1d3af4f2",
   "metadata": {},
   "outputs": [],
   "source": [
    "b = \"hello\"\n",
    "print(name)\n",
    "print(type(b))"
   ]
  },
  {
   "cell_type": "code",
   "execution_count": null,
   "id": "fc879b5b",
   "metadata": {},
   "outputs": [],
   "source": [
    "complex"
   ]
  },
  {
   "cell_type": "code",
   "execution_count": null,
   "id": "7320352c",
   "metadata": {},
   "outputs": [],
   "source": [
    "c = 1j\n",
    "print(c)\n",
    "print(type(c))"
   ]
  },
  {
   "cell_type": "code",
   "execution_count": null,
   "id": "98c12058",
   "metadata": {},
   "outputs": [],
   "source": [
    "list"
   ]
  },
  {
   "cell_type": "code",
   "execution_count": null,
   "id": "021d47e5",
   "metadata": {},
   "outputs": [],
   "source": [
    "d = [\"a\", \"b\", \"c\", \"d\"]\n",
    "print(d)\n",
    "print(type(d))"
   ]
  },
  {
   "cell_type": "code",
   "execution_count": null,
   "id": "943de81a",
   "metadata": {},
   "outputs": [],
   "source": [
    "tupple"
   ]
  },
  {
   "cell_type": "code",
   "execution_count": null,
   "id": "43cf6bb9",
   "metadata": {},
   "outputs": [],
   "source": [
    "e = (\"a\", \"b\", \"c\", \"d\")\n",
    "print(e)\n",
    "print(type(e))"
   ]
  },
  {
   "cell_type": "code",
   "execution_count": null,
   "id": "e124b9b1",
   "metadata": {},
   "outputs": [],
   "source": [
    "range"
   ]
  },
  {
   "cell_type": "code",
   "execution_count": null,
   "id": "66f25919",
   "metadata": {},
   "outputs": [],
   "source": [
    "f = range(6)\n",
    "print(f)\n",
    "print(type(f))"
   ]
  },
  {
   "cell_type": "code",
   "execution_count": null,
   "id": "dce70cc2",
   "metadata": {},
   "outputs": [],
   "source": [
    "set"
   ]
  },
  {
   "cell_type": "code",
   "execution_count": null,
   "id": "e0fec25d",
   "metadata": {},
   "outputs": [],
   "source": [
    "g = {\"Ridho\", \"Linne\", \"Najmi\"}\n",
    "print(g)\n",
    "print(type(g))"
   ]
  },
  {
   "cell_type": "code",
   "execution_count": null,
   "id": "4be1533a",
   "metadata": {},
   "outputs": [],
   "source": [
    "dict"
   ]
  },
  {
   "cell_type": "code",
   "execution_count": null,
   "id": "a5ec7f69",
   "metadata": {},
   "outputs": [],
   "source": [
    "h = {\"nama\" : \"linne\"}\n",
    "print(h)\n",
    "print(type(h))"
   ]
  },
  {
   "cell_type": "code",
   "execution_count": null,
   "id": "6574ca2a",
   "metadata": {},
   "outputs": [],
   "source": [
    "frozenset"
   ]
  },
  {
   "cell_type": "code",
   "execution_count": null,
   "id": "9a0d7aaa",
   "metadata": {},
   "outputs": [],
   "source": [
    "i = frpzenset({\"ridho\", \"kise\"})\n",
    "print(i)\n",
    "print(type(i))"
   ]
  },
  {
   "cell_type": "code",
   "execution_count": null,
   "id": "8d9f5391",
   "metadata": {},
   "outputs": [],
   "source": [
    "bool"
   ]
  },
  {
   "cell_type": "code",
   "execution_count": null,
   "id": "d803b62d",
   "metadata": {},
   "outputs": [],
   "source": [
    "j = True\n",
    "print(j)\n",
    "print(type(j))"
   ]
  },
  {
   "cell_type": "code",
   "execution_count": null,
   "id": "9cc39c7f",
   "metadata": {},
   "outputs": [],
   "source": [
    "bytes"
   ]
  },
  {
   "cell_type": "code",
   "execution_count": null,
   "id": "8e5e0db3",
   "metadata": {},
   "outputs": [],
   "source": [
    "k = b\"hello\"\n",
    "print(k)\n",
    "print(type(k))\n"
   ]
  },
  {
   "cell_type": "code",
   "execution_count": null,
   "id": "9fa99390",
   "metadata": {},
   "outputs": [],
   "source": [
    "byte array"
   ]
  },
  {
   "cell_type": "code",
   "execution_count": null,
   "id": "e4f94232",
   "metadata": {},
   "outputs": [],
   "source": [
    "l = bytearray(6)\n",
    "print(l)\n",
    "print(type(l))"
   ]
  },
  {
   "cell_type": "code",
   "execution_count": null,
   "id": "e31c9f74",
   "metadata": {},
   "outputs": [],
   "source": [
    "memory view"
   ]
  },
  {
   "cell_type": "code",
   "execution_count": null,
   "id": "7e1363a7",
   "metadata": {},
   "outputs": [],
   "source": [
    "m = memoryview(bytes(6))\n",
    "print(m)\n",
    "print(type(m))"
   ]
  },
  {
   "cell_type": "code",
   "execution_count": null,
   "id": "d6bfd2ee",
   "metadata": {},
   "outputs": [],
   "source": [
    "None"
   ]
  },
  {
   "cell_type": "code",
   "execution_count": null,
   "id": "6828672c",
   "metadata": {},
   "outputs": [],
   "source": [
    "n = None\n",
    "print(n)\n",
    "print(type(o))"
   ]
  }
 ],
 "metadata": {
  "kernelspec": {
   "display_name": ".venv",
   "language": "python",
   "name": "python3"
  },
  "language_info": {
   "codemirror_mode": {
    "name": "ipython",
    "version": 3
   },
   "file_extension": ".py",
   "mimetype": "text/x-python",
   "name": "python",
   "nbconvert_exporter": "python",
   "pygments_lexer": "ipython3",
   "version": "3.12.3"
  }
 },
 "nbformat": 4,
 "nbformat_minor": 5
}
