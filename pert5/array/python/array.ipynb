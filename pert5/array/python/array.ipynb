{
 "cells": [
  {
   "cell_type": "code",
   "execution_count": null,
   "id": "3824a883",
   "metadata": {},
   "outputs": [],
   "source": [
    "motor = [\"Honda\", \"Suzuki\", \"Yamaha\"]\n",
    "print (motor [0])\n",
    "print (motor [1])\n",
    "print (motor [2])"
   ]
  }
 ],
 "metadata": {
  "language_info": {
   "name": "python"
  }
 },
 "nbformat": 4,
 "nbformat_minor": 5
}
